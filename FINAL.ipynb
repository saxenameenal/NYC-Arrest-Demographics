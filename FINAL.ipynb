{
 "cells": [
  {
   "cell_type": "code",
   "execution_count": 1,
   "metadata": {},
   "outputs": [
    {
     "ename": "URLError",
     "evalue": "<urlopen error [Error 2] The system cannot find the file specified: 'C:\\\\Users\\\\meena\\\\Desktop\\\\NYPD_Arrests_Data__Historic_.csv'>",
     "output_type": "error",
     "traceback": [
      "\u001b[1;31m\u001b[0m",
      "\u001b[1;31mURLError\u001b[0mTraceback (most recent call last)",
      "\u001b[1;32m<ipython-input-1-94d36504e496>\u001b[0m in \u001b[0;36m<module>\u001b[1;34m()\u001b[0m\n\u001b[0;32m      8\u001b[0m \u001b[0mmapbox_access_token\u001b[0m \u001b[1;33m=\u001b[0m \u001b[1;34m'pk.eyJ1IjoiZ2hjYXJuZWlybyIsImEiOiJjazBmOXNjNmswcWcyM2JxZXhjNzc2eDBkIn0.L4pHZaHSpa4pQL-fML9i5w'\u001b[0m\u001b[1;33m\u001b[0m\u001b[0m\n\u001b[0;32m      9\u001b[0m \u001b[1;33m\u001b[0m\u001b[0m\n\u001b[1;32m---> 10\u001b[1;33m \u001b[0mdf\u001b[0m \u001b[1;33m=\u001b[0m \u001b[0mpd\u001b[0m\u001b[1;33m.\u001b[0m\u001b[0mread_csv\u001b[0m\u001b[1;33m(\u001b[0m\u001b[1;34m'file://localhost/C:/Users/meena/Desktop/NYPD_Arrests_Data__Historic_.csv'\u001b[0m\u001b[1;33m)\u001b[0m\u001b[1;33m\u001b[0m\u001b[0m\n\u001b[0m\u001b[0;32m     11\u001b[0m \u001b[1;33m\u001b[0m\u001b[0m\n\u001b[0;32m     12\u001b[0m \u001b[1;31m#reading in different columns, and converting to string to be able to graph\u001b[0m\u001b[1;33m\u001b[0m\u001b[1;33m\u001b[0m\u001b[0m\n",
      "\u001b[1;32mC:\\Users\\meena\\Anaconda2\\lib\\site-packages\\pandas\\io\\parsers.pyc\u001b[0m in \u001b[0;36mparser_f\u001b[1;34m(filepath_or_buffer, sep, delimiter, header, names, index_col, usecols, squeeze, prefix, mangle_dupe_cols, dtype, engine, converters, true_values, false_values, skipinitialspace, skiprows, skipfooter, nrows, na_values, keep_default_na, na_filter, verbose, skip_blank_lines, parse_dates, infer_datetime_format, keep_date_col, date_parser, dayfirst, iterator, chunksize, compression, thousands, decimal, lineterminator, quotechar, quoting, doublequote, escapechar, comment, encoding, dialect, tupleize_cols, error_bad_lines, warn_bad_lines, delim_whitespace, low_memory, memory_map, float_precision)\u001b[0m\n\u001b[0;32m    700\u001b[0m                     skip_blank_lines=skip_blank_lines)\n\u001b[0;32m    701\u001b[0m \u001b[1;33m\u001b[0m\u001b[0m\n\u001b[1;32m--> 702\u001b[1;33m         \u001b[1;32mreturn\u001b[0m \u001b[0m_read\u001b[0m\u001b[1;33m(\u001b[0m\u001b[0mfilepath_or_buffer\u001b[0m\u001b[1;33m,\u001b[0m \u001b[0mkwds\u001b[0m\u001b[1;33m)\u001b[0m\u001b[1;33m\u001b[0m\u001b[0m\n\u001b[0m\u001b[0;32m    703\u001b[0m \u001b[1;33m\u001b[0m\u001b[0m\n\u001b[0;32m    704\u001b[0m     \u001b[0mparser_f\u001b[0m\u001b[1;33m.\u001b[0m\u001b[0m__name__\u001b[0m \u001b[1;33m=\u001b[0m \u001b[0mname\u001b[0m\u001b[1;33m\u001b[0m\u001b[0m\n",
      "\u001b[1;32mC:\\Users\\meena\\Anaconda2\\lib\\site-packages\\pandas\\io\\parsers.pyc\u001b[0m in \u001b[0;36m_read\u001b[1;34m(filepath_or_buffer, kwds)\u001b[0m\n\u001b[0;32m    411\u001b[0m     \u001b[0mcompression\u001b[0m \u001b[1;33m=\u001b[0m \u001b[0m_infer_compression\u001b[0m\u001b[1;33m(\u001b[0m\u001b[0mfilepath_or_buffer\u001b[0m\u001b[1;33m,\u001b[0m \u001b[0mcompression\u001b[0m\u001b[1;33m)\u001b[0m\u001b[1;33m\u001b[0m\u001b[0m\n\u001b[0;32m    412\u001b[0m     filepath_or_buffer, _, compression, should_close = get_filepath_or_buffer(\n\u001b[1;32m--> 413\u001b[1;33m         filepath_or_buffer, encoding, compression)\n\u001b[0m\u001b[0;32m    414\u001b[0m     \u001b[0mkwds\u001b[0m\u001b[1;33m[\u001b[0m\u001b[1;34m'compression'\u001b[0m\u001b[1;33m]\u001b[0m \u001b[1;33m=\u001b[0m \u001b[0mcompression\u001b[0m\u001b[1;33m\u001b[0m\u001b[0m\n\u001b[0;32m    415\u001b[0m \u001b[1;33m\u001b[0m\u001b[0m\n",
      "\u001b[1;32mC:\\Users\\meena\\Anaconda2\\lib\\site-packages\\pandas\\io\\common.pyc\u001b[0m in \u001b[0;36mget_filepath_or_buffer\u001b[1;34m(filepath_or_buffer, encoding, compression, mode)\u001b[0m\n\u001b[0;32m    200\u001b[0m \u001b[1;33m\u001b[0m\u001b[0m\n\u001b[0;32m    201\u001b[0m     \u001b[1;32mif\u001b[0m \u001b[0m_is_url\u001b[0m\u001b[1;33m(\u001b[0m\u001b[0mfilepath_or_buffer\u001b[0m\u001b[1;33m)\u001b[0m\u001b[1;33m:\u001b[0m\u001b[1;33m\u001b[0m\u001b[0m\n\u001b[1;32m--> 202\u001b[1;33m         \u001b[0mreq\u001b[0m \u001b[1;33m=\u001b[0m \u001b[0m_urlopen\u001b[0m\u001b[1;33m(\u001b[0m\u001b[0mfilepath_or_buffer\u001b[0m\u001b[1;33m)\u001b[0m\u001b[1;33m\u001b[0m\u001b[0m\n\u001b[0m\u001b[0;32m    203\u001b[0m         \u001b[0mcontent_encoding\u001b[0m \u001b[1;33m=\u001b[0m \u001b[0mreq\u001b[0m\u001b[1;33m.\u001b[0m\u001b[0mheaders\u001b[0m\u001b[1;33m.\u001b[0m\u001b[0mget\u001b[0m\u001b[1;33m(\u001b[0m\u001b[1;34m'Content-Encoding'\u001b[0m\u001b[1;33m,\u001b[0m \u001b[0mNone\u001b[0m\u001b[1;33m)\u001b[0m\u001b[1;33m\u001b[0m\u001b[0m\n\u001b[0;32m    204\u001b[0m         \u001b[1;32mif\u001b[0m \u001b[0mcontent_encoding\u001b[0m \u001b[1;33m==\u001b[0m \u001b[1;34m'gzip'\u001b[0m\u001b[1;33m:\u001b[0m\u001b[1;33m\u001b[0m\u001b[0m\n",
      "\u001b[1;32mC:\\Users\\meena\\Anaconda2\\lib\\urllib2.pyc\u001b[0m in \u001b[0;36murlopen\u001b[1;34m(url, data, timeout, cafile, capath, cadefault, context)\u001b[0m\n\u001b[0;32m    152\u001b[0m     \u001b[1;32melse\u001b[0m\u001b[1;33m:\u001b[0m\u001b[1;33m\u001b[0m\u001b[0m\n\u001b[0;32m    153\u001b[0m         \u001b[0mopener\u001b[0m \u001b[1;33m=\u001b[0m \u001b[0m_opener\u001b[0m\u001b[1;33m\u001b[0m\u001b[0m\n\u001b[1;32m--> 154\u001b[1;33m     \u001b[1;32mreturn\u001b[0m \u001b[0mopener\u001b[0m\u001b[1;33m.\u001b[0m\u001b[0mopen\u001b[0m\u001b[1;33m(\u001b[0m\u001b[0murl\u001b[0m\u001b[1;33m,\u001b[0m \u001b[0mdata\u001b[0m\u001b[1;33m,\u001b[0m \u001b[0mtimeout\u001b[0m\u001b[1;33m)\u001b[0m\u001b[1;33m\u001b[0m\u001b[0m\n\u001b[0m\u001b[0;32m    155\u001b[0m \u001b[1;33m\u001b[0m\u001b[0m\n\u001b[0;32m    156\u001b[0m \u001b[1;32mdef\u001b[0m \u001b[0minstall_opener\u001b[0m\u001b[1;33m(\u001b[0m\u001b[0mopener\u001b[0m\u001b[1;33m)\u001b[0m\u001b[1;33m:\u001b[0m\u001b[1;33m\u001b[0m\u001b[0m\n",
      "\u001b[1;32mC:\\Users\\meena\\Anaconda2\\lib\\urllib2.pyc\u001b[0m in \u001b[0;36mopen\u001b[1;34m(self, fullurl, data, timeout)\u001b[0m\n\u001b[0;32m    427\u001b[0m             \u001b[0mreq\u001b[0m \u001b[1;33m=\u001b[0m \u001b[0mmeth\u001b[0m\u001b[1;33m(\u001b[0m\u001b[0mreq\u001b[0m\u001b[1;33m)\u001b[0m\u001b[1;33m\u001b[0m\u001b[0m\n\u001b[0;32m    428\u001b[0m \u001b[1;33m\u001b[0m\u001b[0m\n\u001b[1;32m--> 429\u001b[1;33m         \u001b[0mresponse\u001b[0m \u001b[1;33m=\u001b[0m \u001b[0mself\u001b[0m\u001b[1;33m.\u001b[0m\u001b[0m_open\u001b[0m\u001b[1;33m(\u001b[0m\u001b[0mreq\u001b[0m\u001b[1;33m,\u001b[0m \u001b[0mdata\u001b[0m\u001b[1;33m)\u001b[0m\u001b[1;33m\u001b[0m\u001b[0m\n\u001b[0m\u001b[0;32m    430\u001b[0m \u001b[1;33m\u001b[0m\u001b[0m\n\u001b[0;32m    431\u001b[0m         \u001b[1;31m# post-process response\u001b[0m\u001b[1;33m\u001b[0m\u001b[1;33m\u001b[0m\u001b[0m\n",
      "\u001b[1;32mC:\\Users\\meena\\Anaconda2\\lib\\urllib2.pyc\u001b[0m in \u001b[0;36m_open\u001b[1;34m(self, req, data)\u001b[0m\n\u001b[0;32m    445\u001b[0m         \u001b[0mprotocol\u001b[0m \u001b[1;33m=\u001b[0m \u001b[0mreq\u001b[0m\u001b[1;33m.\u001b[0m\u001b[0mget_type\u001b[0m\u001b[1;33m(\u001b[0m\u001b[1;33m)\u001b[0m\u001b[1;33m\u001b[0m\u001b[0m\n\u001b[0;32m    446\u001b[0m         result = self._call_chain(self.handle_open, protocol, protocol +\n\u001b[1;32m--> 447\u001b[1;33m                                   '_open', req)\n\u001b[0m\u001b[0;32m    448\u001b[0m         \u001b[1;32mif\u001b[0m \u001b[0mresult\u001b[0m\u001b[1;33m:\u001b[0m\u001b[1;33m\u001b[0m\u001b[0m\n\u001b[0;32m    449\u001b[0m             \u001b[1;32mreturn\u001b[0m \u001b[0mresult\u001b[0m\u001b[1;33m\u001b[0m\u001b[0m\n",
      "\u001b[1;32mC:\\Users\\meena\\Anaconda2\\lib\\urllib2.pyc\u001b[0m in \u001b[0;36m_call_chain\u001b[1;34m(self, chain, kind, meth_name, *args)\u001b[0m\n\u001b[0;32m    405\u001b[0m             \u001b[0mfunc\u001b[0m \u001b[1;33m=\u001b[0m \u001b[0mgetattr\u001b[0m\u001b[1;33m(\u001b[0m\u001b[0mhandler\u001b[0m\u001b[1;33m,\u001b[0m \u001b[0mmeth_name\u001b[0m\u001b[1;33m)\u001b[0m\u001b[1;33m\u001b[0m\u001b[0m\n\u001b[0;32m    406\u001b[0m \u001b[1;33m\u001b[0m\u001b[0m\n\u001b[1;32m--> 407\u001b[1;33m             \u001b[0mresult\u001b[0m \u001b[1;33m=\u001b[0m \u001b[0mfunc\u001b[0m\u001b[1;33m(\u001b[0m\u001b[1;33m*\u001b[0m\u001b[0margs\u001b[0m\u001b[1;33m)\u001b[0m\u001b[1;33m\u001b[0m\u001b[0m\n\u001b[0m\u001b[0;32m    408\u001b[0m             \u001b[1;32mif\u001b[0m \u001b[0mresult\u001b[0m \u001b[1;32mis\u001b[0m \u001b[1;32mnot\u001b[0m \u001b[0mNone\u001b[0m\u001b[1;33m:\u001b[0m\u001b[1;33m\u001b[0m\u001b[0m\n\u001b[0;32m    409\u001b[0m                 \u001b[1;32mreturn\u001b[0m \u001b[0mresult\u001b[0m\u001b[1;33m\u001b[0m\u001b[0m\n",
      "\u001b[1;32mC:\\Users\\meena\\Anaconda2\\lib\\urllib2.pyc\u001b[0m in \u001b[0;36mfile_open\u001b[1;34m(self, req)\u001b[0m\n\u001b[0;32m   1334\u001b[0m             \u001b[1;32mreturn\u001b[0m \u001b[0mself\u001b[0m\u001b[1;33m.\u001b[0m\u001b[0mparent\u001b[0m\u001b[1;33m.\u001b[0m\u001b[0mopen\u001b[0m\u001b[1;33m(\u001b[0m\u001b[0mreq\u001b[0m\u001b[1;33m)\u001b[0m\u001b[1;33m\u001b[0m\u001b[0m\n\u001b[0;32m   1335\u001b[0m         \u001b[1;32melse\u001b[0m\u001b[1;33m:\u001b[0m\u001b[1;33m\u001b[0m\u001b[0m\n\u001b[1;32m-> 1336\u001b[1;33m             \u001b[1;32mreturn\u001b[0m \u001b[0mself\u001b[0m\u001b[1;33m.\u001b[0m\u001b[0mopen_local_file\u001b[0m\u001b[1;33m(\u001b[0m\u001b[0mreq\u001b[0m\u001b[1;33m)\u001b[0m\u001b[1;33m\u001b[0m\u001b[0m\n\u001b[0m\u001b[0;32m   1337\u001b[0m \u001b[1;33m\u001b[0m\u001b[0m\n\u001b[0;32m   1338\u001b[0m     \u001b[1;31m# names for the localhost\u001b[0m\u001b[1;33m\u001b[0m\u001b[1;33m\u001b[0m\u001b[0m\n",
      "\u001b[1;32mC:\\Users\\meena\\Anaconda2\\lib\\urllib2.pyc\u001b[0m in \u001b[0;36mopen_local_file\u001b[1;34m(self, req)\u001b[0m\n\u001b[0;32m   1374\u001b[0m         \u001b[1;32mexcept\u001b[0m \u001b[0mOSError\u001b[0m\u001b[1;33m,\u001b[0m \u001b[0mmsg\u001b[0m\u001b[1;33m:\u001b[0m\u001b[1;33m\u001b[0m\u001b[0m\n\u001b[0;32m   1375\u001b[0m             \u001b[1;31m# urllib2 users shouldn't expect OSErrors coming from urlopen()\u001b[0m\u001b[1;33m\u001b[0m\u001b[1;33m\u001b[0m\u001b[0m\n\u001b[1;32m-> 1376\u001b[1;33m             \u001b[1;32mraise\u001b[0m \u001b[0mURLError\u001b[0m\u001b[1;33m(\u001b[0m\u001b[0mmsg\u001b[0m\u001b[1;33m)\u001b[0m\u001b[1;33m\u001b[0m\u001b[0m\n\u001b[0m\u001b[0;32m   1377\u001b[0m         \u001b[1;32mraise\u001b[0m \u001b[0mURLError\u001b[0m\u001b[1;33m(\u001b[0m\u001b[1;34m'file not on local host'\u001b[0m\u001b[1;33m)\u001b[0m\u001b[1;33m\u001b[0m\u001b[0m\n\u001b[0;32m   1378\u001b[0m \u001b[1;33m\u001b[0m\u001b[0m\n",
      "\u001b[1;31mURLError\u001b[0m: <urlopen error [Error 2] The system cannot find the file specified: 'C:\\\\Users\\\\meena\\\\Desktop\\\\NYPD_Arrests_Data__Historic_.csv'>"
     ]
    }
   ],
   "source": [
    "import plotly.graph_objects as go\n",
    "from plotly.offline import iplot\n",
    "from IPython.display import display\n",
    "from ipywidgets import *\n",
    "\n",
    "import pandas as pd\n",
    "\n",
    "mapbox_access_token = 'pk.eyJ1IjoiZ2hjYXJuZWlybyIsImEiOiJjazBmOXNjNmswcWcyM2JxZXhjNzc2eDBkIn0.L4pHZaHSpa4pQL-fML9i5w'\n",
    "\n",
    "df = pd.read_csv('file://localhost/C:/Users/meena/Desktop/NYPD_Arrests_Data__Historic_.csv')\n",
    "\n",
    "#reading in different columns, and converting to string to be able to graph\n",
    "df['Date'] = df.date.astype(str) \n",
    "df['Borough'] = df.Borough.astype(str)\n",
    "df['Offense'] = df.Offense_Type.astype(str)\n",
    "df['Offense Description'] = df.Offense_Description.astype(str)\n",
    "df['AgeGroup'] = df.p.astype(str)\n",
    "df['Gender']=df.s.astype(str)\n",
    "\n",
    "site_lat = df.latitude #taking latitude to plot on map\n",
    "site_lon = df.longitude #taking longitude\n",
    "\n",
    "#plotting data on map\n",
    "dataAll = [\n",
    "    go.Scattermapbox(\n",
    "        #where you plot the dots on map\n",
    "        lat=site_lat,\n",
    "        lon=site_lon,\n",
    "        mode='markers',\n",
    "        marker=dict(\n",
    "            size=0.5,\n",
    "            color='rgb(255, 215, 0)',\n",
    "            opacity=0.7\n",
    "        ),\n",
    "        \n",
    "        \n",
    "        text=\"Date: \" + df['Date'] + \"<br />\" + \"Borough:  \"+ df['Borough'] + \"<br />\" + \"Offense Type: \" + df['Offense'] + \"<br />\"  + \"Offense Description: \" + df['Offense Description'] ,\n",
    "        hoverinfo='text',\n",
    "        name=\"casualties\"\n",
    "    )]\n",
    "\n",
    "\n",
    "layoutAll = go.Layout(\n",
    "    title='NYC Arrests',\n",
    "    autosize=True,\n",
    "    hovermode='closest',\n",
    "    showlegend=True,\n",
    "    mapbox=dict(\n",
    "        accesstoken=mapbox_access_token,\n",
    "        bearing=0,\n",
    "        center=dict(\n",
    "            lat=40,\n",
    "            lon=-73.0060\n",
    "        ),\n",
    "        pitch=0,\n",
    "        zoom=3,\n",
    "        style='dark'\n",
    "    ),\n",
    ")\n",
    "\n",
    "figAll = dict(data=dataAll, layout=layoutAll)\n"
   ]
  },
  {
   "cell_type": "code",
   "execution_count": 5,
   "metadata": {},
   "outputs": [],
   "source": [
    "import plotly.graph_objects as go\n",
    "from plotly.offline import iplot\n",
    "from IPython.display import display\n",
    "from ipywidgets import *\n",
    "\n",
    "import pandas as pd\n",
    "\n",
    "mapbox_access_token = 'pk.eyJ1IjoiZ2hjYXJuZWlybyIsImEiOiJjazBmOXNjNmswcWcyM2JxZXhjNzc2eDBkIn0.L4pHZaHSpa4pQL-fML9i5w'\n",
    "\n",
    "df = pd.read_csv('file://localhost/C:/Users/meena/Desktop/2017_.csv')\n",
    "\n",
    "#reading in different columns, and converting to string to be able to graph\n",
    "df['Date'] = df.date.astype(str) \n",
    "df['Borough'] = df.Borough.astype(str)\n",
    "df['Offense'] = df.Offense_Type.astype(str)\n",
    "df['Offense Description'] = df.Offense_Description.astype(str)\n",
    "df['AgeGroup'] = df.p.astype(str)\n",
    "df['Gender']=df.s.astype(str)\n",
    "\n",
    "site_lat = df.latitude #taking latitude to plot on map\n",
    "site_lon = df.longitude #taking longitude\n",
    "\n",
    "#plotting data on map\n",
    "data2017 = [\n",
    "    go.Scattermapbox(\n",
    "        #where you plot the dots on map\n",
    "        lat=site_lat,\n",
    "        lon=site_lon,\n",
    "        mode='markers',\n",
    "        marker=dict(\n",
    "            size=0.5,\n",
    "            color='rgb(255, 215, 0)',\n",
    "            opacity=0.7\n",
    "        ),\n",
    "        \n",
    "        \n",
    "        text=\"Date: \" + df['Date'] + \"<br />\" + \"Borough:  \"+ df['Borough'] + \"<br />\" + \"Offense Type: \" + df['Offense'] + \"<br />\"  + \"Offense Description: \" + df['Offense Description'] ,\n",
    "        hoverinfo='text',\n",
    "        name=\"casualties\"\n",
    "    )]\n",
    "\n",
    "\n",
    "layout2017 = go.Layout(\n",
    "    title='NYC Arrests in 2017',\n",
    "    autosize=True,\n",
    "    hovermode='closest',\n",
    "    showlegend=True,\n",
    "    mapbox=dict(\n",
    "        accesstoken=mapbox_access_token,\n",
    "        bearing=0,\n",
    "        center=dict(\n",
    "            lat=40,\n",
    "            lon=-73.0060\n",
    "        ),\n",
    "        pitch=0,\n",
    "        zoom=3,\n",
    "        style='dark'\n",
    "    ),\n",
    ")\n",
    "\n",
    "fig2017 = dict(data=data2017, layout=layout2017)\n"
   ]
  },
  {
   "cell_type": "code",
   "execution_count": 6,
   "metadata": {},
   "outputs": [],
   "source": [
    "import plotly.graph_objects as go\n",
    "from plotly.offline import iplot\n",
    "from IPython.display import display\n",
    "from ipywidgets import *\n",
    "\n",
    "import pandas as pd\n",
    "\n",
    "mapbox_access_token = 'pk.eyJ1IjoiZ2hjYXJuZWlybyIsImEiOiJjazBmOXNjNmswcWcyM2JxZXhjNzc2eDBkIn0.L4pHZaHSpa4pQL-fML9i5w'\n",
    "\n",
    "df = pd.read_csv('file://localhost/C:/Users/meena/Desktop/2016_.csv')\n",
    "\n",
    "#reading in different columns, and converting to string to be able to graph\n",
    "df['Date'] = df.date.astype(str) \n",
    "df['Borough'] = df.Borough.astype(str)\n",
    "df['Offense'] = df.Offense_Type.astype(str)\n",
    "df['Offense Description'] = df.Offense_Description.astype(str)\n",
    "df['AgeGroup'] = df.p.astype(str)\n",
    "df['Gender']=df.s.astype(str)\n",
    "\n",
    "site_lat = df.latitude #taking latitude to plot on map\n",
    "site_lon = df.longitude #taking longitude\n",
    "\n",
    "#plotting data on map\n",
    "data2016 = [\n",
    "    go.Scattermapbox(\n",
    "        #where you plot the dots on map\n",
    "        lat=site_lat,\n",
    "        lon=site_lon,\n",
    "        mode='markers',\n",
    "        marker=dict(\n",
    "            size=0.5,\n",
    "            color='rgb(255, 215, 0)',\n",
    "            opacity=0.7\n",
    "        ),\n",
    "        \n",
    "        \n",
    "        text=\"Date: \" + df['Date'] + \"<br />\" + \"Borough:  \"+ df['Borough'] + \"<br />\" + \"Offense Type: \" + df['Offense'] + \"<br />\"  + \"Offense Description: \" + df['Offense Description'] ,\n",
    "        hoverinfo='text',\n",
    "        name=\"casualties\"\n",
    "    )]\n",
    "\n",
    "\n",
    "layout2016 = go.Layout(\n",
    "    title='NYC Arrests in 2016',\n",
    "    autosize=True,\n",
    "    hovermode='closest',\n",
    "    showlegend=True,\n",
    "    mapbox=dict(\n",
    "        accesstoken=mapbox_access_token,\n",
    "        bearing=0,\n",
    "        center=dict(\n",
    "            lat=40,\n",
    "            lon=-73.0060\n",
    "        ),\n",
    "        pitch=0,\n",
    "        zoom=3,\n",
    "        style='dark'\n",
    "    ),\n",
    ") \n",
    "\n",
    "fig2016 = dict(data=data2016, layout=layout2016)\n"
   ]
  },
  {
   "cell_type": "code",
   "execution_count": 7,
   "metadata": {},
   "outputs": [],
   "source": [
    "import plotly.graph_objects as go\n",
    "from plotly.offline import iplot\n",
    "from IPython.display import display\n",
    "from ipywidgets import *\n",
    "\n",
    "import pandas as pd\n",
    "\n",
    "mapbox_access_token = 'pk.eyJ1IjoiZ2hjYXJuZWlybyIsImEiOiJjazBmOXNjNmswcWcyM2JxZXhjNzc2eDBkIn0.L4pHZaHSpa4pQL-fML9i5w'\n",
    "\n",
    "df = pd.read_csv('file://localhost/C:/Users/meena/Desktop/2015_.csv')\n",
    "\n",
    "#reading in different columns, and converting to string to be able to graph\n",
    "df['Date'] = df.date.astype(str) \n",
    "df['Borough'] = df.Borough.astype(str)\n",
    "df['Offense'] = df.Offense_Type.astype(str)\n",
    "df['Offense Description'] = df.Offense_Description.astype(str)\n",
    "df['AgeGroup'] = df.p.astype(str)\n",
    "df['Gender']=df.s.astype(str)\n",
    "\n",
    "site_lat = df.latitude #taking latitude to plot on map\n",
    "site_lon = df.longitude #taking longitude\n",
    "\n",
    "#plotting data on map\n",
    "data2015 = [\n",
    "    go.Scattermapbox(\n",
    "        #where you plot the dots on map\n",
    "        lat=site_lat,\n",
    "        lon=site_lon,\n",
    "        mode='markers',\n",
    "        marker=dict(\n",
    "            size=0.5,\n",
    "            color='rgb(255, 215, 0)',\n",
    "            opacity=0.7\n",
    "        ),\n",
    "        \n",
    "        \n",
    "        text=\"Date: \" + df['Date'] + \"<br />\" \n",
    "            + \"Borough:  \"+ df['Borough'] + \"<br />\" \n",
    "            + \"Offense Type: \" + df['Offense'] + \"<br />\"  \n",
    "            + \"Offense Description: \" + df['Offense Description'] ,\n",
    "        hoverinfo='text',\n",
    "        name=\"arrests\"\n",
    "    )]\n",
    "\n",
    "\n",
    "layout2015 = go.Layout(\n",
    "    title='NYC Arrests in 2015',\n",
    "    autosize=True,\n",
    "    hovermode='closest',\n",
    "    showlegend=True,\n",
    "    mapbox=dict(\n",
    "        accesstoken=mapbox_access_token,\n",
    "        bearing=0,\n",
    "        center=dict(\n",
    "            lat=40,\n",
    "            lon=-73.0060\n",
    "        ),\n",
    "        pitch=0,\n",
    "        zoom=3,\n",
    "        style='dark'\n",
    "    ),\n",
    ")\n",
    "\n",
    "fig2015 = dict(data=data2015, layout=layout2015)\n"
   ]
  },
  {
   "cell_type": "code",
   "execution_count": null,
   "metadata": {},
   "outputs": [],
   "source": []
  },
  {
   "cell_type": "code",
   "execution_count": 12,
   "metadata": {},
   "outputs": [
    {
     "data": {
      "application/vnd.jupyter.widget-view+json": {
       "model_id": "c0896cfee85a47cb9f0f560be4e2bdb2",
       "version_major": 2,
       "version_minor": 0
      },
      "text/plain": [
       "Text(value=u'Name')"
      ]
     },
     "metadata": {},
     "output_type": "display_data"
    }
   ],
   "source": [
    "import ipywidgets as wg\n",
    "from IPython.display import display\n",
    "name=wg.Text(value='Year')\n",
    "display(name)\n"
   ]
  },
  {
   "cell_type": "markdown",
   "metadata": {},
   "source": [
    "if (name.value==\"All\"):\n",
    "    iplot(figAll, filename='NYC Arrests')\n",
    "if(name.value==\"2015\"):\n",
    "    iplot(fig2015, filename='NYC Arrests 2015')\n",
    "if(name.value==\"2016\"):\n",
    "    iplot(fig2016, filename='NYC Arrests 2016')\n",
    "if(name.value==\"2017\"):\n",
    "    iplot(fig2017, filename='NYC Arrests 2017')"
   ]
  },
  {
   "cell_type": "code",
   "execution_count": 10,
   "metadata": {},
   "outputs": [
    {
     "data": {
      "application/vnd.jupyter.widget-view+json": {
       "model_id": "146b40b9522e41599e782f39f90f38d7",
       "version_major": 2,
       "version_minor": 0
      },
      "text/plain": [
       "Button(description=u'NYC Arrests', style=ButtonStyle())"
      ]
     },
     "metadata": {},
     "output_type": "display_data"
    },
    {
     "data": {
      "application/vnd.jupyter.widget-view+json": {
       "model_id": "ef8106de19f9490ba64a7ab66351a8c5",
       "version_major": 2,
       "version_minor": 0
      },
      "text/plain": [
       "Button(description=u'NYC Arrests 2015', style=ButtonStyle())"
      ]
     },
     "metadata": {},
     "output_type": "display_data"
    },
    {
     "data": {
      "application/vnd.jupyter.widget-view+json": {
       "model_id": "1cd9f123ec5f43e0a549894294be7281",
       "version_major": 2,
       "version_minor": 0
      },
      "text/plain": [
       "Button(description=u'NYC Arrests 2016', style=ButtonStyle())"
      ]
     },
     "metadata": {},
     "output_type": "display_data"
    },
    {
     "data": {
      "application/vnd.jupyter.widget-view+json": {
       "model_id": "99f199439a864bb3849da48b6f6bd5d7",
       "version_major": 2,
       "version_minor": 0
      },
      "text/plain": [
       "Button(description=u'NYC Arrests 2017', style=ButtonStyle())"
      ]
     },
     "metadata": {},
     "output_type": "display_data"
    }
   ],
   "source": [
    "from IPython.display import display\n",
    "from ipywidgets import *\n",
    "a=1;\n",
    "button1 = widgets.Button(description=\"NYC Arrests\")\n",
    "button2 = widgets.Button(description=\"NYC Arrests 2015\")\n",
    "button3 = widgets.Button(description=\"NYC Arrests 2016\")\n",
    "button4 = widgets.Button(description=\"NYC Arrests 2017\")\n",
    "\n",
    "display(button1)\n",
    "display(button2)\n",
    "display(button3)\n",
    "display(button4)\n",
    "\n",
    "def on_button1_clicked(a):\n",
    "    iplot(figAll, filename='NYC Arrests')\n",
    "def on_button2_clicked(a):\n",
    "    iplot(fig2016, filename='NYC Arrests 2015')\n",
    "def on_button3_clicked(a):\n",
    "    iplot(fig2016, filename='NYC Arrests 2016')\n",
    "def on_button4_clicked(a):\n",
    "    iplot(fig2016, filename='NYC Arrests 2017')\n",
    "    \n",
    "button1.on_click(on_button1_clicked)\n",
    "button2.on_click(on_button2_clicked)\n",
    "button3.on_click(on_button3_clicked)\n",
    "button4.on_click(on_button4_clicked)"
   ]
  },
  {
   "cell_type": "code",
   "execution_count": null,
   "metadata": {},
   "outputs": [],
   "source": []
  },
  {
   "cell_type": "code",
   "execution_count": null,
   "metadata": {},
   "outputs": [],
   "source": []
  }
 ],
 "metadata": {
  "kernelspec": {
   "display_name": "Python 2",
   "language": "python",
   "name": "python2"
  },
  "language_info": {
   "codemirror_mode": {
    "name": "ipython",
    "version": 2
   },
   "file_extension": ".py",
   "mimetype": "text/x-python",
   "name": "python",
   "nbconvert_exporter": "python",
   "pygments_lexer": "ipython2",
   "version": "2.7.16"
  }
 },
 "nbformat": 4,
 "nbformat_minor": 2
}
